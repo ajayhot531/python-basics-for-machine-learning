{
 "cells": [
  {
   "cell_type": "code",
   "execution_count": 9,
   "metadata": {
    "collapsed": true
   },
   "outputs": [],
   "source": [
    "import numpy as np\n",
    "import pandas as pd\n",
    "import matplotlib.pyplot as plt\n",
    "import pickle\n",
    "import seaborn as sns"
   ]
  },
  {
   "cell_type": "code",
   "execution_count": 2,
   "metadata": {
    "collapsed": true
   },
   "outputs": [],
   "source": [
    "#Load the dataset\n",
    "dataset = pd.read_csv('50_Startups.csv')"
   ]
  },
  {
   "cell_type": "code",
   "execution_count": 3,
   "metadata": {
    "collapsed": true
   },
   "outputs": [],
   "source": [
    "#Features and Labels\n",
    "features = dataset.iloc[:,[0,1,2,3]].values\n",
    "label = dataset.iloc[:,[4]].values"
   ]
  },
  {
   "cell_type": "code",
   "execution_count": 4,
   "metadata": {
    "collapsed": true
   },
   "outputs": [],
   "source": [
    "#Step4: Label and One Hot Encoding for state field\n",
    "from sklearn.preprocessing import LabelEncoder,OneHotEncoder\n",
    "encoder = LabelEncoder()\n",
    "features[:,3]=encoder.fit_transform(features[:,3])\n",
    "\n",
    "ohe=OneHotEncoder(categorical_features=[3])\n",
    "features=ohe.fit_transform(features).toarray()"
   ]
  },
  {
   "cell_type": "code",
   "execution_count": 5,
   "metadata": {
    "collapsed": true
   },
   "outputs": [],
   "source": [
    "#Load the model\n",
    "#this line will be there in your server back end page\n",
    "model = pickle.load(open(\"MyModelLR.model\",'rb'))"
   ]
  },
  {
   "cell_type": "code",
   "execution_count": 6,
   "metadata": {},
   "outputs": [
    {
     "data": {
      "text/plain": [
       "array([[ 192290.73607666],\n",
       "       [ 189858.49131898],\n",
       "       [ 178678.9934985 ],\n",
       "       [ 172102.0543758 ],\n",
       "       [ 167979.49411476],\n",
       "       [ 160797.38050908],\n",
       "       [ 157207.88165555],\n",
       "       [ 159817.4674484 ],\n",
       "       [ 152466.07130821],\n",
       "       [ 152579.56080397],\n",
       "       [ 132872.07174272],\n",
       "       [ 132253.81567698],\n",
       "       [ 128045.24213907],\n",
       "       [ 127574.66890343],\n",
       "       [ 149975.44919571],\n",
       "       [ 144898.30983258],\n",
       "       [ 116412.31793249],\n",
       "       [ 131109.05709646],\n",
       "       [ 127303.85418691],\n",
       "       [ 115583.94277518],\n",
       "       [ 115835.44141619],\n",
       "       [ 119378.07429222],\n",
       "       [ 114113.5994088 ],\n",
       "       [ 108335.42065747],\n",
       "       [ 110493.04606916],\n",
       "       [ 102570.51355568],\n",
       "       [ 110455.98228344],\n",
       "       [ 115078.13124331],\n",
       "       [ 104440.72582616],\n",
       "       [ 102899.79205219],\n",
       "       [  97297.37614133],\n",
       "       [  98759.7276409 ],\n",
       "       [  98034.70341583],\n",
       "       [  95786.77295823],\n",
       "       [  91600.14454914],\n",
       "       [  87785.3497979 ],\n",
       "       [  75478.6463131 ],\n",
       "       [  84424.86168921],\n",
       "       [  66093.9297267 ],\n",
       "       [  80833.2810607 ],\n",
       "       [  74731.13936062],\n",
       "       [  71707.78771428],\n",
       "       [  68882.09199702],\n",
       "       [  60195.91211447],\n",
       "       [  66410.00059878],\n",
       "       [  47591.33506197],\n",
       "       [  56824.73391802],\n",
       "       [  47251.46890903],\n",
       "       [  43853.43843603],\n",
       "       [  47922.01283338]])"
      ]
     },
     "execution_count": 6,
     "metadata": {},
     "output_type": "execute_result"
    }
   ],
   "source": [
    "model.predict(features)"
   ]
  },
  {
   "cell_type": "code",
   "execution_count": 7,
   "metadata": {},
   "outputs": [
    {
     "data": {
      "text/plain": [
       "0.94799386278749997"
      ]
     },
     "execution_count": 7,
     "metadata": {},
     "output_type": "execute_result"
    }
   ],
   "source": [
    "model.score(features,label)"
   ]
  },
  {
   "cell_type": "code",
   "execution_count": null,
   "metadata": {
    "collapsed": true
   },
   "outputs": [],
   "source": []
  }
 ],
 "metadata": {
  "anaconda-cloud": {},
  "kernelspec": {
   "display_name": "Python 3",
   "language": "python",
   "name": "python3"
  },
  "language_info": {
   "codemirror_mode": {
    "name": "ipython",
    "version": 3
   },
   "file_extension": ".py",
   "mimetype": "text/x-python",
   "name": "python",
   "nbconvert_exporter": "python",
   "pygments_lexer": "ipython3",
   "version": "3.6.3"
  }
 },
 "nbformat": 4,
 "nbformat_minor": 1
}
